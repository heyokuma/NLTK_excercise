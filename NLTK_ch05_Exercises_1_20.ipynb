{
 "cells": [
  {
   "cell_type": "code",
   "execution_count": 1,
   "metadata": {},
   "outputs": [],
   "source": [
    "import nltk\n",
    "import datetime\n",
    "from nltk.corpus import brown\n",
    "from nltk.tokenize import sent_tokenize, word_tokenize"
   ]
  },
  {
   "cell_type": "markdown",
   "metadata": {},
   "source": [
    "__1.__ Search the web for \"spoof newspaper headlines\", to find such gems as: _British Left Waffles on Falkland Islands, and Juvenile Court to Try Shooting Defendant_. <br> Manually tag these headlines to see if knowledge of the part-of-speech tags removes the ambiguity."
   ]
  },
  {
   "cell_type": "code",
   "execution_count": 2,
   "metadata": {},
   "outputs": [],
   "source": [
    "headline = \"British Left Waffles on Falkland Islands, and Juvenile Court to Try Shooting Defendant\""
   ]
  },
  {
   "cell_type": "code",
   "execution_count": 3,
   "metadata": {},
   "outputs": [],
   "source": [
    "def pos_tag(text):\n",
    "    word = word_tokenize(text)\n",
    "    return nltk.pos_tag(word)"
   ]
  },
  {
   "cell_type": "code",
   "execution_count": 4,
   "metadata": {},
   "outputs": [
    {
     "data": {
      "text/plain": [
       "[('British', 'JJ'),\n",
       " ('Left', 'NNP'),\n",
       " ('Waffles', 'NNP'),\n",
       " ('on', 'IN'),\n",
       " ('Falkland', 'NNP'),\n",
       " ('Islands', 'NNP'),\n",
       " (',', ','),\n",
       " ('and', 'CC'),\n",
       " ('Juvenile', 'NNP'),\n",
       " ('Court', 'NNP'),\n",
       " ('to', 'TO'),\n",
       " ('Try', 'VB'),\n",
       " ('Shooting', 'NNP'),\n",
       " ('Defendant', 'NNP')]"
      ]
     },
     "execution_count": 4,
     "metadata": {},
     "output_type": "execute_result"
    }
   ],
   "source": [
    "pos_tag(headline)"
   ]
  },
  {
   "cell_type": "markdown",
   "metadata": {},
   "source": [
    "3. Tokenize and tag the following sentence: _They wind back the clock, while we chase after the wind_. What different pronunciations and parts of speech are involved?"
   ]
  },
  {
   "cell_type": "code",
   "execution_count": 5,
   "metadata": {},
   "outputs": [
    {
     "data": {
      "text/plain": [
       "[('They', 'PRP'),\n",
       " ('wind', 'VBP'),\n",
       " ('back', 'RB'),\n",
       " ('the', 'DT'),\n",
       " ('clock', 'NN'),\n",
       " (',', ','),\n",
       " ('while', 'IN'),\n",
       " ('we', 'PRP'),\n",
       " ('chase', 'VBP'),\n",
       " ('after', 'IN'),\n",
       " ('the', 'DT'),\n",
       " ('wind', 'NN'),\n",
       " ('.', '.')]"
      ]
     },
     "execution_count": 5,
     "metadata": {},
     "output_type": "execute_result"
    }
   ],
   "source": [
    "pos_tag(\"They wind back the clock, while we chase after the wind.\")"
   ]
  },
  {
   "cell_type": "markdown",
   "metadata": {},
   "source": [
    "__4. Review the mappings in 3.1. Discuss any other examples of mappings you can think of. What type of information do they map from and to?__"
   ]
  },
  {
   "cell_type": "code",
   "execution_count": null,
   "metadata": {},
   "outputs": [],
   "source": []
  },
  {
   "cell_type": "markdown",
   "metadata": {},
   "source": [
    "__5. Using the Python interpreter in interactive mode, experiment with the dictionary examples in this chapter. Create a dictionary  `d` , and add some entries. What happens if you try to access a non-existent entry, e.g.  `d['xyz']` ?__"
   ]
  },
  {
   "cell_type": "code",
   "execution_count": 7,
   "metadata": {},
   "outputs": [],
   "source": [
    "#d={}\n",
    "#d['xyz']"
   ]
  },
  {
   "attachments": {
    "image.png": {
     "image/png": "[encoded data removed]"
    }
   },
   "cell_type": "markdown",
   "metadata": {},
   "source": [
    "![image.png](attachment:image.png)"
   ]
  },
  {
   "cell_type": "markdown",
   "metadata": {},
   "source": [
    "__6. Try deleting an element from a dictionary `d`, using the syntax  `del d['abc']` . Check that the item was deleted.__"
   ]
  },
  {
   "cell_type": "code",
   "execution_count": 8,
   "metadata": {},
   "outputs": [],
   "source": [
    "d={'abd':15,'abc':10,'eds':100}"
   ]
  },
  {
   "cell_type": "code",
   "execution_count": 9,
   "metadata": {},
   "outputs": [
    {
     "data": {
      "text/plain": [
       "{'abd': 15, 'eds': 100}"
      ]
     },
     "execution_count": 9,
     "metadata": {},
     "output_type": "execute_result"
    }
   ],
   "source": [
    "del d['abc']\n",
    "d"
   ]
  },
  {
   "cell_type": "markdown",
   "metadata": {},
   "source": [
    "__7. Create two dictionaries, `d1` and `d2`, and add some entries to each. Now issue the command `d1.update(d2)`. What did this do? What might it be useful for?__"
   ]
  },
  {
   "cell_type": "code",
   "execution_count": 11,
   "metadata": {},
   "outputs": [],
   "source": [
    "d1 = {'andy':15,'eric':34,'joy':25,'sherry':27}\n",
    "d2 = {'acer':50, 'asus':30, 'auo':40, 'taiwan':108}"
   ]
  },
  {
   "cell_type": "code",
   "execution_count": 12,
   "metadata": {},
   "outputs": [],
   "source": [
    "d1.update(d2)"
   ]
  },
  {
   "cell_type": "markdown",
   "metadata": {},
   "source": [
    "Update the dictionary with the key/value pairs from other, overwriting existing keys.\n",
    "Useful when merging two dictionaries."
   ]
  },
  {
   "cell_type": "markdown",
   "metadata": {},
   "source": [
    "__10. Train a unigram tagger and run it on some new text. Observe that some words are not assigned a tag. Why not?__"
   ]
  },
  {
   "cell_type": "code",
   "execution_count": 14,
   "metadata": {},
   "outputs": [
    {
     "data": {
      "text/plain": [
       "[('hello', None),\n",
       " ('world', 'NN'),\n",
       " ('natural', 'JJ'),\n",
       " ('language', 'NN'),\n",
       " ('processing', 'NN'),\n",
       " ('i', None),\n",
       " ('am', 'BEM'),\n",
       " ('happy', 'JJ')]"
      ]
     },
     "execution_count": 14,
     "metadata": {},
     "output_type": "execute_result"
    }
   ],
   "source": [
    "brown_tagged_sents = brown.tagged_sents(categories='news')\n",
    "unigram_tagger = nltk.UnigramTagger(brown_tagged_sents)\n",
    "\n",
    "test_text = ['hello', 'world', 'natural', 'language', 'processing','i','am','happy']\n",
    "unigram_tagger.tag(test_text)"
   ]
  },
  {
   "cell_type": "markdown",
   "metadata": {},
   "source": [
    "單字沒有出現在training set過"
   ]
  },
  {
   "cell_type": "markdown",
   "metadata": {},
   "source": [
    "__11. Learn about the affix tagger (type `help(nltk.AffixTagger)` ). Train an affix tagger and run it on some new text. Experiment with different settings for the affix length and the minimum word length. Discuss your findings.__"
   ]
  },
  {
   "cell_type": "code",
   "execution_count": 14,
   "metadata": {
    "scrolled": true
   },
   "outputs": [],
   "source": [
    "#help(nltk.AffixTagger)"
   ]
  },
  {
   "cell_type": "code",
   "execution_count": 15,
   "metadata": {},
   "outputs": [],
   "source": [
    "def affix_tagger_(affix_len, min_stem_len, text):\n",
    "    affix_tagger = nltk.AffixTagger(brown_tagged_sents, affix_length=affix_len, min_stem_length=min_stem_len)\n",
    "    test_text = text.split()\n",
    "    return affix_tagger.tag(test_text)"
   ]
  },
  {
   "cell_type": "code",
   "execution_count": 16,
   "metadata": {},
   "outputs": [
    {
     "data": {
      "text/plain": [
       "[('I', None),\n",
       " ('love', 'VB'),\n",
       " ('this', 'DT'),\n",
       " ('mouse', 'NN'),\n",
       " ('for', 'IN'),\n",
       " ('the', 'AT'),\n",
       " ('price', 'NN'),\n",
       " ('it', None),\n",
       " ('is', None),\n",
       " ('.', None)]"
      ]
     },
     "execution_count": 16,
     "metadata": {},
     "output_type": "execute_result"
    }
   ],
   "source": [
    "affix_tagger = nltk.AffixTagger(brown_tagged_sents, affix_length=3, min_stem_length=0)\n",
    "#min_stem_length: 字數<min_stem_length+abs(affix_len)會被assign None\n",
    "#affix_length: 在訓練和標記期間應考慮的詞綴長度。 使用負數表示後綴。\n",
    "test_text = nltk.word_tokenize('I love this mouse for the price it is.')\n",
    "affix_tagger.tag(test_text)"
   ]
  },
  {
   "cell_type": "markdown",
   "metadata": {},
   "source": [
    "__12.Train a bigram tagger with no backoff tagger, and run it on some of the training data. Next, run it on some new data. What happens to the performance of the tagger? Why?__"
   ]
  },
  {
   "cell_type": "code",
   "execution_count": 17,
   "metadata": {},
   "outputs": [
    {
     "data": {
      "text/plain": [
       "<BigramTagger: size=33701>"
      ]
     },
     "execution_count": 17,
     "metadata": {},
     "output_type": "execute_result"
    }
   ],
   "source": [
    "bigram_tagger = nltk.BigramTagger(brown_tagged_sents)\n",
    "bigram_tagger"
   ]
  },
  {
   "cell_type": "code",
   "execution_count": 18,
   "metadata": {
    "scrolled": true
   },
   "outputs": [
    {
     "data": {
      "text/plain": [
       "[('for', None),\n",
       " ('the', None),\n",
       " ('manner', None),\n",
       " ('in', None),\n",
       " ('which', None),\n",
       " ('the', None),\n",
       " ('election', None),\n",
       " ('was', None),\n",
       " ('conducted', None),\n",
       " ('.', None)]"
      ]
     },
     "execution_count": 18,
     "metadata": {},
     "output_type": "execute_result"
    }
   ],
   "source": [
    "bigram_tagger.tag(brown.sents()[1])[-10:]"
   ]
  },
  {
   "cell_type": "code",
   "execution_count": 19,
   "metadata": {
    "scrolled": true
   },
   "outputs": [
    {
     "data": {
      "text/plain": [
       "[('For', 'IN'),\n",
       " ('those', 'DTS'),\n",
       " ('who', 'WPS'),\n",
       " ('stream', None),\n",
       " ('their', None),\n",
       " ('gaming', None),\n",
       " ('online', None),\n",
       " (',', None)]"
      ]
     },
     "execution_count": 19,
     "metadata": {},
     "output_type": "execute_result"
    }
   ],
   "source": [
    "bigram_tagger.tag(nltk.word_tokenize('For those who stream their gaming online, equipment matters. And when getting a keyboard for someone who games regularly can be a little intimidating, especially if you yourself are not a gamer. So when I gave this keyboard to my son to try out, I did so with some trepidation. What would he think? Would he be pleased or immediately switch back to his old keyboard?'))[:8]"
   ]
  },
  {
   "cell_type": "code",
   "execution_count": 19,
   "metadata": {},
   "outputs": [],
   "source": [
    "# 沒看過得資料就會被標註成None, 一旦一個字變成None, 後面的字也會都是None(因為bigram沒有遇過都是none"
   ]
  },
  {
   "cell_type": "markdown",
   "metadata": {},
   "source": [
    "__13.  We can use a dictionary to specify the values to be substituted into a formatting string. Read Python's library documentation for formatting strings http://docs.python.org/lib/typesseq-strings.html (_404 NOT FOUND_) and use this method to display today's date in two different formats.__"
   ]
  },
  {
   "cell_type": "code",
   "execution_count": 21,
   "metadata": {},
   "outputs": [
    {
     "data": {
      "text/plain": [
       "'2019-04-10'"
      ]
     },
     "execution_count": 21,
     "metadata": {},
     "output_type": "execute_result"
    }
   ],
   "source": [
    "datetime.datetime.today().strftime(\"%Y-%m-%d\")"
   ]
  },
  {
   "cell_type": "markdown",
   "metadata": {},
   "source": [
    "__14. Use `sorted()` and `set()` to get a sorted list of tags used in the Brown corpus, removing duplicates.__"
   ]
  },
  {
   "cell_type": "code",
   "execution_count": 20,
   "metadata": {},
   "outputs": [
    {
     "data": {
      "text/plain": [
       "[('The', 'AT'), ('Fulton', 'NP-TL'), ...]"
      ]
     },
     "execution_count": 20,
     "metadata": {},
     "output_type": "execute_result"
    }
   ],
   "source": [
    "nltk.corpus.brown.tagged_words()"
   ]
  },
  {
   "cell_type": "code",
   "execution_count": 21,
   "metadata": {},
   "outputs": [],
   "source": [
    "tags = sorted(set([tag for (_, tag) in nltk.corpus.brown.tagged_words()]))"
   ]
  },
  {
   "cell_type": "code",
   "execution_count": 22,
   "metadata": {},
   "outputs": [
    {
     "data": {
      "text/plain": [
       "472"
      ]
     },
     "execution_count": 22,
     "metadata": {},
     "output_type": "execute_result"
    }
   ],
   "source": [
    "len(tags)"
   ]
  },
  {
   "cell_type": "markdown",
   "metadata": {},
   "source": [
    "__15. Write programs to process the Brown Corpus and find answers to the following questions:__\n",
    "- 1. Which nouns are more common in their plural form, rather than their singular form? (Only consider regular plurals, formed with the -s suffix.)"
   ]
  },
  {
   "cell_type": "code",
   "execution_count": 23,
   "metadata": {},
   "outputs": [],
   "source": [
    "brown_tagged = brown.tagged_words()\n",
    "cfd = nltk.ConditionalFreqDist(brown_tagged)"
   ]
  },
  {
   "cell_type": "code",
   "execution_count": 24,
   "metadata": {},
   "outputs": [],
   "source": [
    "from collections import defaultdict\n",
    "common_plural = set()\n",
    "single_num = defaultdict(int)\n",
    "plural_num = defaultdict(int)\n",
    "for word in set(brown.words()):\n",
    "    if cfd[word+'s']['NNS'] > cfd[word]['NN']:\n",
    "        single_num[word] = cfd[word]['NN']\n",
    "        plural_num[word+'s'] = cfd[word+'s']['NNS']\n",
    "        common_plural.add(word)\n",
    "    elif cfd[word+'s']['NNPS'] > cfd[word]['NNP']:\n",
    "        single_num[word] = cfd[word]['NNP']\n",
    "        plural_num[word+'s'] = cfd[word+'s']['NNPS']\n",
    "        common_plural.add(word)"
   ]
  },
  {
   "cell_type": "code",
   "execution_count": 30,
   "metadata": {
    "scrolled": true
   },
   "outputs": [
    {
     "data": {
      "text/plain": [
       "dict_keys(['Hurts', 'scholastics', 'movies', 'Pilots', 'landmarks', 'buyers', 'inmates', 'obligations', 'piers', 'guests', 'compliments', 'commoners', 'Courses', 'colleagues', 'interrelationships', '1890s', 'Returns', 'innocents', 'rays', '1920s', 'absolutes', 'nuts', 'liberties', 'spoils', 'employes', 'additives', 'commitments', 'endowments', 'sailboats', 'whites', 'passengers', '45-degrees', 'theatricals', 'listeners', 'communes', 'pickers', 'disadvantages', 'Nations', 'others', 'yachts', 'sensors', 'eatables', 'straps', 'Colors', 'concessions', 'toppings', 'thirds', 'controllers', 'Poets', 'francs', 'trustees', 'batteries', 'abolitionists', 'barriers', 'specifics', 'toes', 'newlyweds', 'slacks', 'imports', 'measurements', 'paws', 'Sets', 'proceedings', 'fives', 'motorists', 'Tests', 'pupils', 'adherents', 'brothels', 'farmers', 'chores', 'boots', 'Changes', 'giggles', 'expectations', 'consequences', 'sales', 'Attorneys', 'emotions', 'wavelengths', 'scenics', 'wrestles', 'Flocks', 'Boats', 'Corrections', 'spacers', 'drugs', 'anteriors', 'bonds', 'rodents', 'proteases', 'nails', 'extractors', 'tears', 'officials', 'trees', 'jewels', 'schoolmates', 'atoms', 'bushels', 'lobes', 'fingers', '1950s', 'reagents', 'Problems', 'insecticides', 'extracts', 'morals', 'Lines', 'spokes', 'things', 'outbursts', 'eyes', 'filberts', 'sweets', 'incompatibles', 'surfactants', 'songs', 'fucks', 'recruits', 'appointees', 'cardinals', 'Wires', 'facets', 'pillars', 'fans', 'medals', 'feathers', 'Abstractions', 'Circumstances', 'mines', 'outs', 'panels', 'notables', 'renditions', 'Sounds', 'friends', 'headquarters', 'terminals', 'diehards', 'suitors', 'preserves', 'cleaners', 'perturbations', 'incidentals', 'traders', 'chants', 'bevels', 'internationalists', 'armaments', 'socks', 'hubs', 'monosyllables', 'Diets', 'Girls', 'spirituals', 'shims', 'Illustrations', 'tranquilizers', '2-year-olds', 'fill-ins', 'greetings', 'groupings', 'Says', 'franks', 'fighters', 'molecules', 'revisions', 'Plays', 'technicians', 'manuals', 'rockets', 'citizens', 'likes', 'biscuits', 'Traders', 'objects', 'Leaves', 'skylights', 'robbers', 'liters', 'leaflets', 'reservations', 'Writers', 'Hazards', 'Avocados', 'aspirations', 'dealings', 'bees', 'Models', 'azaleas', 'parameters', 'members', 'binders', 'observations', 'trousers', 'scandals', 'tektites', 'Strikes', 'nobles', 'implements', 'pacers', 'Criminals', 'wings', 'Developments', 'reins', 'cookies', 'Dreams', 'marinas', 'affairs', 'dictates', 'hours', 'referrals', 'Forces', 'waves', 'omissions', 'limitations', 'vitamins', 'oysters', 'Marinas', 'Mines', 'Crowds', 'Superintendents', 'buns', 'Evenings', 'firecrackers', 'megatons', 'pamphlets', 'sausages', 'makers', 'Artists', 'canons', '90-degrees', 'Drums', 'instructions', 'dolphins', 'lodgings', 'destroyers', 'Signs', 'gangsters', 'mores', 'strays', 'subsystems', 'pounds', 'bounds', 'characteristics', 'anti-Communists', 'disciples', 'honeybees', 'classmates', 'Snakes', '1970s', 'scientists', 'angels', 'cartoons', 'Persons', 'competitors', 'campers', 'Expenditures', 'Boys', 'Payments', '1930s', 'circumstances', 'years', 'buds', 'pheasants', 'universals', 'drapers', 'Bullets', 'Towns', 'authorizations', 'toughs', 'turnpikes', 'hikes', 'incumbents', 'fetes', 'axes', 'loins', 'lungs', 'Numbers', 'adverbs', 'bronchioles', 'driers', 'slippers', 'supervisors', 'rogues', 'compounds', 'gymnasts', 'negotiations', 'Dealers', 'memoirs', 'Wants', 'poems', 'legs', 'expenditures', 'smelts', 'sags', 'spectators', 'flowers', 'laments', 'catalogs', 'soldiers', 'doses', 'enthusiasts', 'callers', 'leaves', 'practitioners', 'rattlesnakes', 'Realtors', 'Associates', 'pledges', 'oilseeds', 'eccentrics', 'eyebrows', 'rebels', 'stockholders', 'fees', 'ellipsoids', 'workers', 'supporters', 'wins', 'nuances', 'patrons', 'Trains', 'stunts', 'brakes', 'byproducts', 'tablespoons', 'leaders', 'tons', 'parents', 'barricades', 'traits', 'aspects', 'advisers', 'defenders', 'Connections', 'emeralds', 'runners', 'References', 'duffers', 'Ideas', 'supermarkets', 'rupees', 'Zeros', 'proceeds', 'bombers', 'Cars', 'walnuts', 'feuds', 'bombs', 'silos', 'catkins', 'periodicals', 'shareholders', 'lobules', 'brackets', 'epithets', 'stains', 'urns', 'Bottoms', 'interfaces', 'nouns', 'Increases', 'exploits', 'hopefuls', 'Institutions', 'twos', 'spouses', 'contours', 'pajamas', 'cops', 'aborigines', 'footsteps', 'Tracks', '1940s', 'teen-agers', 'Speakers', 'rites', 'Areas', 'ayes', 'intermediates', 'claws', 'Relatives', 'explosives', 'dislocations', 'items', 'gallants', 'ripples', 'beings', 'limbs', 'tangents', 'shreds', 'grams', 'nightclubs', 'nudes', 'features', 'inflections', 'manifestations', 'outbreaks', 'plaques', 'towels', 'probes', 'evocations', 'pores', 'predispositions', 'Years', 'actives', 'spewings', 'redcoats', 'cosmetics', 'students', 'adjectives', 'cuffs', 'initials', 'Glazes', 'photographers', 'settlers', 'shipments', 'Originals', 'wrestlings', 'employers', 'Methods', 'carrots', 'gusts', 'creatures', 'rim-fires', 'overhangs', 'submarines', 'Jobs', 'acoustics', 'users', 'liberals', 'fins', 'Costs', 'trappings', 'investigators', 'dipoles', 'revenues', 'skippers', 'sedans', 'bitters', 'endearments', 'comrades', 'Pictures', 'disclosures', 'transformers', 'classics', 'Judges', 'Doctors', 'Cows', 'mortals', 'proponents', 'tactics', 'voters', 'Stars', 'Indications', 'bribes', 'loudspeakers', 'sweepings', 'insects', 'teamsters', 'qualifications', 'wanderings', 'meteors', 'guts', 'wrinkles', 'ads', 'silhouettes', 'defects', 'particles', 'fabrics', 'adapters', 'personages', 'prolusions', 'vistas', 'Chestnuts', 'Investors', 'synthetics', 'chromatics', 'swells', 'laurels', 'libertarians', 'serpents', 'villains', 'drums', 'metaphysicals', 'imperfections', 'ticks', 'ciphers', 'topics', 'dressers', 'believers', 'posters', 'headaches', 'tidbits', 'deviants', 'Fractions', 'abstracts', 'regulations', 'elephants', 'stamps', 'therefores', 'epicycles', 'congratulations', 'Northerners', 'experts', 'Directions', 'thanks', 'creepers', 'coordinates', 'courtiers', 'sonatas', 'booklets', 'ratings', 'hitters', 'terms', 'guerrillas', 'natives', 'organs', 'Loans', 'dynamics', 'Birds', 'Interviews', 'relations', 'youngsters', 'aberrations', 'fundamentals', 'infestations', 'representatives', 'Bankers', 'speculations', 'deltoids', 'vineyards', 'parasites', 'Funds', 'conformists', 'props', 'resources', 'narcotics', 'triplets', 'scholars', 'mills', 'crackpots', 'channels', 'gymnastics', 'invaders', 'accomplishments', 'vines', 'miners', 'experiments', 'growers', 'Individuals', 'psychiatrists', 'moderates', 'injunctions', 'pinnings', 'findings', 'Employees', 'Appeals', 'Corporations', 'maps', 'politicians', 'Flowers', 'probings', 'backyards', 'progressions', 'imaginings', 'odds', 'fragments', 'huggings', 'grotesques', 'microorganisms', 'dolls', 'Shares', 'Others', 'ruts', 'makeshifts', 'Observers', 'Commands', 'riddles', 'recriminations', 'offensives', 'silicates', 'ideals', 'cooperatives', 'regulars', 'Oranges', 'ducks', 'shrubs', 'uplands', 'maneuvers', 'Advances', 'nos', 'professionals', 'warriors', 'stairs', 'surmises', 'hydrides', 'Estimates', 'stewards', 'generalists', 'bankers', 'chops', 'dependents', 'mystics', 'weeds', 'ethics', 'ants', 'Judgments', 'relatives', 'capes', 'Ships', 'Morals', 'purges', 'customs', 'Sessions', 'vitals', 'boastings', 'antagonists', 'requirements', 'grads', 'ducts', 'receipts', 'headlines', 'hoofs', 'copings', 'knees', 'hostages', 'salons', 'intellectuals', 'Solutions', '1960s', 'loyalists', 'converts', 'Seeds', 'candidates', 'toys', 'insurgents', 'clouds', 'followers', 'Letters', 'occupants', 'fours', 'infidels', 'Troopers', 'meters', 'admonitions', 'generalizations', 'clothes', 'verbs', 'carvings', 'Conferences', 'ballistics', 'banshees', 'Deans', 'Investigations', 'larks', 'traitors', 'outsiders', 'puddles', 'mountains', 'shakers', 'kennings', 'Farmers', 'barbarians', 'moderns', 'guardians', 'precepts', 'components', 'thugs', 'stars', 'complications', 'Intangibles', 'fingerings', 'spades', 'restrictions', 'ups', 'savages', 'Cocktails', 'ailments', 'dealers', 'tenants', 'realtors', 'instrumentals', 'decrees', 'servants', 'vows', 'Proprietorships', 'Regulations', 'counterparts', 'pinks', 'plates', 'surroundings', 'means', 'ramifications', 'leadings', 'Measures', 'peacocks', 'trumps', 'species', 'surrealists', 'ions', 'irregulars', 'markings', 'forecasts', 'appropriations', 'burns', 'demons', 'variables', 'Gains', 'beans', 'grapes', 'Planes', 'institutions', 'nothings', 'Plans', 'outboards', 'Names', 'divers', 'underwriters', 'flips', 'antecedents', 'Magnums', 'Examples', 'cells', 'boughs', 'centimeters', 'Looks', 'thickets', 'Sentiments', 'Vineyards', 'arms', 'ghouls', 'soybeans', 'Bids', 'ribs', 'monitors', 'ingredients', 'auditors', 'clods', 'transients', 'arrangements', 'gassings', 'advertisements', 'lowers', 'vendors', 'leavings', 'Paintings', 'Records', 'Cameras', 'documents', 'foreigners', 'nuns', 'valves', 'helmets', 'alcoholics', 'consonants', 'publishers', 'Guests', 'acres', 'Films', 'Thousands', 'peasants', 'enzymes', 'Results', 'millions', 'tonics', 'commissioners', 'bruises', 'grooves', 'errors', 'crystallites', 'planners', 'geologists', 'eclipses', 'collaborators', 'sores', 'lives', 'assessors', 'basics', 'critters', 'Trustees', 'critics', 'winnings', 'carriers', 'Oils', 'limits', 'mammals', 'Dogs', 'colonials', 'Students', 'slaves', 'plastics', 'Fights', 'suburbs', 'paintings', 'burglars', 'concessionaires', 'events', 'linguists', 'lapels', 'peoples', 'steroids', 'dividends', 'Experiments', 'resultants', 'Steps', 'concentrates', 'Teachers', 'furnishings', 'skates', 'heroics', 'normals', 'savings', 'Songs', 'independents', 'miles', 'legislators', 'attributes', 'robots', 'casuals', 'bumblebees', 'Scores', 'Orders', 'warys', 'manufacturers', 'shoes', 'highlights', 'reporters', 'Heads', 'cubes', 'sailors', 'Applications', 'undergraduates', 'minutes', 'elements', 'scriptures', 'diagonals', 'stockings', 'blossoms', 'Readings', 'ills', 'repulsions', 'organisms', 'thousandths', 'ones', 'dunes', 'lays', 'commercials', 'merchants', 'aerials', 'pebbles', 'spices', 'birds', 'grocers', 'secularists', 'improvisations', 'heels', 'costumes', 'Missiles', 'curls', 'postulates', 'nationals', 'Demons', 'Teams', 'conditions', 'belongings', 'tens', 'Sponsors', 'soles', 'motives', 'pageants', 'standards', 'tanks', 'vehicles', 'conservatives', 'ethers', 'customers', 'projections', 'cheekbones', 'defendants', 'Representatives', 'knuckles', 'conquerors', 'snags', 'cloves', 'earnings', 'twins', 'Invitations', 'weapons', 'deliberations', 'brokers', 'antiquarians', 'steps', 'syllables', 'appliances', 'products', 'shavings', 'migrants', 'carts', 'mugs', 'Designs', 'bubbles', 'allowances', 'Members', 'bugs', 'secants', 'lyrics', 'Coconuts', 'Governors', 'overalls', 'discs', 'survivors', 'specialists', 'factors', 'allusions', 'delegates', 'nerves', 'Statues', 'grenades', 'kissings', 'escapades', 'thousands', 'Graduates', 'Thanks', 're-runs', 'gunners', 'Pagans', 'milligrams', 'sports', 'remarks', 'romantics', 'Measurements', 'planets', 'lashings', 'compulsives', 'trailers', 'intangibles', 'mechanics', 'anionics', 'craters', 'locales', 'directives', 'jerkings', 'hundreds', 'taxpayers', 'entertainers', 'observers', 'Lots', 'billions', 'Reefs', 'drawings', 'Exports', 'Questions', 'intervals', 'participants', 'contributors', 'confines', 'sirens', 'Regulars', 'Officers', 'theses', 'gasps', 'speculators', 'Operations', 'trimmings', 'vaults', 'Books', 'Things', 'strivings', 'battens', 'deductions', 'solids', 'months', 'Highways', 'jowls', 'gutters', 'bites', 'constituents', 'herpetologists', 'dimensions', 'meteorites', 'racketeers', 'Charts', 'homosexuals', 'tentacles', 'vases', 'musings', 'treasures', 'teens', 'assets', 'hues', 'survivalists', 'sneakers', 'chunks', 'cutters', 'orchards', 'shunts', 'accommodations', 'specifications', 'shorts', 'hits', 'ligands', 'lags', 'Liberals', 'conjugates', 'primes', 'gadgets', 'tribes', 'contraceptives', 'premises', 'senators', 'revellings', 'superiors', 'vegetables', 'theologians', 'giants', 'Flats', 'symptoms', 'Reports', 'implications', 'flares', 'deeps', 'advisors', 'Starts', 'musicians', 'watersheds', 'doings', 'Systems', 'pirates', 'yards', 'Travelers', 'sediments', 'methods', 'ears', 'tenths', 'Feelings', 'threes', 'elders', 'lilacs', 'Makes', 'Aids', 'visitors', 'determinants', 'applicants', 'Citizens', 'superlatives', 'simples', 'bootleggers', 'dystopias', 'integrals', 'workings', 'dollars', 'exports', 'subordinates', 'weaves', 'teenagers', 'Scholars', \"'60s\", 'vocals', 'predecessors', 'leaks', 'Senators', 'Officials', 'sacraments', 'athletics', 'taverns', 'swellings', 'troops', 'prerogatives', 'bidders', 'favorites', 'retailers', 'closeups', 'words', 'neighbors', 'modifications', 'incompetents', 'hinges', 'paragraphs', 'funds', 'fats', 'stumps', 'norms', 'antics', 'volunteers', 'immigrants', 'performers', 'extras', 'calories', 'nutrients', 'resistors', 'comedies', 'droppings', 'seekers', 'installations', 'peers', 'remains', 'happenings', 'cards', 'denominations', 'polymers', 'rigids', 'Surveys', 'rulers', 'Advertisers', 'fathoms', 'bifocals', 'techniques', 'moths', 'singers', 'alloys', 'Houses', 'employees', 'bristles', 'indicators', 'two-weeks', 'investors', 'airfields', 'associates', 'initiates', 'downs', 'players', 'researchers', 'sensitives', 'Markets', 'comets', 'inboards', 'polyphosphates', 'residents', 'deductibles', 'promoters', 'affiliations', 'Cultures', 'coloreds', 'prisoners', 'spikes', 'Stations', 'eggs', 'Reporters', 'Eyes', 'lips', 'wraps', 'eyelids', 'descendants', 'boos', 'psychologists', 'subversives', 'overtures', 'rules', 'Cases', 'urgings', 'nostrils', 'propagandists', 'finals', 'titters', 'gallons', 'Apologies', 'Juniors'])"
      ]
     },
     "execution_count": 30,
     "metadata": {},
     "output_type": "execute_result"
    }
   ],
   "source": [
    "plural_num.keys()"
   ]
  },
  {
   "cell_type": "markdown",
   "metadata": {},
   "source": [
    "- 2. Which word has the greatest number of distinct tags. What are they, and what do they represent?"
   ]
  },
  {
   "cell_type": "code",
   "execution_count": 31,
   "metadata": {},
   "outputs": [],
   "source": [
    "tag_dict = { k: len(cfd[k]) for k in cfd}"
   ]
  },
  {
   "cell_type": "code",
   "execution_count": 32,
   "metadata": {},
   "outputs": [],
   "source": [
    "greatest = max(tag_dict, key=lambda key: tag_dict[key])"
   ]
  },
  {
   "cell_type": "code",
   "execution_count": 33,
   "metadata": {},
   "outputs": [
    {
     "data": {
      "text/plain": [
       "[('that',\n",
       "  FreqDist({'CS': 6419, 'DT': 1975, 'WPS': 1638, 'WPO': 135, 'QL': 54, 'DT-NC': 6, 'WPS-NC': 3, 'CS-NC': 2, 'WPS-HL': 2, 'CS-HL': 1, ...}))]"
      ]
     },
     "execution_count": 33,
     "metadata": {},
     "output_type": "execute_result"
    }
   ],
   "source": [
    "[(key, cfd[key]) for (key, value) in tag_dict.items() if value==12]"
   ]
  },
  {
   "cell_type": "markdown",
   "metadata": {},
   "source": [
    "The most frequent word is that with tags (taken from http://www.comp.leeds.ac.uk/amalgam/tagsets/brown.html )\n",
    "\n",
    "- CS=conjunction, subordinating\n",
    "- WPS=WH-pronoun, nominative\n",
    "- DT=determiner/pronoun, singular\n",
    "- QL=qualifier, pre\n",
    "- WPO=WH-pronoun, accusative\n",
    "- CS-HL=conjunction, subordinating (not in list)\n",
    "- DT-NC=determiner/pronoun, singular (not in list)\n",
    "- NIL=? (not in list)\n",
    "- WPS-NC=WH-pronoun, nominative (not in list)\n",
    "- WPO-NC=WH-pronoun, accusative (not in list)\n",
    "- CS-NC=conjunction, subordinating (not in list)\n",
    "- WPS-HL=WH-pronoun, nominative (not in list)"
   ]
  },
  {
   "cell_type": "markdown",
   "metadata": {},
   "source": [
    "- 3. List tags in order of decreasing frequency. What do the 20 most frequent tags represent?"
   ]
  },
  {
   "cell_type": "code",
   "execution_count": 34,
   "metadata": {},
   "outputs": [],
   "source": [
    "counts = defaultdict(int)\n",
    "for (word, tag) in brown_tagged:\n",
    "    counts[tag] += 1"
   ]
  },
  {
   "cell_type": "code",
   "execution_count": 35,
   "metadata": {},
   "outputs": [
    {
     "data": {
      "text/plain": [
       "[('NN', 152470),\n",
       " ('IN', 120557),\n",
       " ('AT', 97959),\n",
       " ('JJ', 64028),\n",
       " ('.', 60638),\n",
       " (',', 58156),\n",
       " ('NNS', 55110),\n",
       " ('CC', 37718),\n",
       " ('RB', 36464),\n",
       " ('NP', 34476),\n",
       " ('VB', 33693),\n",
       " ('VBN', 29186),\n",
       " ('VBD', 26167),\n",
       " ('CS', 22143),\n",
       " ('PPS', 18253),\n",
       " ('VBG', 17893),\n",
       " ('PP$', 16872),\n",
       " ('TO', 14918),\n",
       " ('PPSS', 13802),\n",
       " ('CD', 13510)]"
      ]
     },
     "execution_count": 35,
     "metadata": {},
     "output_type": "execute_result"
    }
   ],
   "source": [
    "from operator import itemgetter\n",
    "sorted(counts.items(), key=itemgetter(1), reverse=True)[:20]"
   ]
  },
  {
   "cell_type": "markdown",
   "metadata": {},
   "source": [
    "- 4. Which tags are nouns most commonly found after? What do these tags represent?"
   ]
  },
  {
   "cell_type": "code",
   "execution_count": 36,
   "metadata": {},
   "outputs": [],
   "source": [
    "## find the word after\n",
    "def after_word(all_word):\n",
    "    second_word = [b[1] for (a, b) in nltk.bigrams(all_word) if a[1].startswith('NN')]\n",
    "    fd = nltk.FreqDist(second_word)\n",
    "    return [tag for (tag,_) in fd.most_common(10)]"
   ]
  },
  {
   "cell_type": "code",
   "execution_count": 37,
   "metadata": {},
   "outputs": [
    {
     "data": {
      "text/plain": [
       "['IN', '.', ',', 'CC', 'NN', 'NNS', 'VBD', 'CS', 'MD', 'BEZ']"
      ]
     },
     "execution_count": 37,
     "metadata": {},
     "output_type": "execute_result"
    }
   ],
   "source": [
    "after_word(brown_tagged)"
   ]
  },
  {
   "cell_type": "markdown",
   "metadata": {},
   "source": [
    "__16. Explore the following issues that arise in connection with the lookup tagger: __<p>\n",
    "- a. What happens to the tagger performance for the various model sizes when a backoff tagger is omitted?\n",
    "> 忽略backoff時，字數越多，performance會越好，因為看過的字越多"
   ]
  },
  {
   "cell_type": "markdown",
   "metadata": {},
   "source": [
    "- b. Consider the curve in 4.2; suggest a good size for a lookup tagger that balances memory and performance. Can you come up with scenarios where it would be preferable to minimize memory usage, or to maximize performance with no regard for memory usage?\n",
    "> If possible, maximize performance with no regard for memory usage would be good but it'll also take times to training."
   ]
  },
  {
   "cell_type": "markdown",
   "metadata": {},
   "source": [
    "__17. What is the upper limit of performance for a lookup tagger, assuming no limit to the size of its table? (Hint: write a program to work out what percentage of tokens of a word are assigned the most likely tag for that word, on average.)__"
   ]
  },
  {
   "cell_type": "markdown",
   "metadata": {},
   "source": [
    "> cannot sure about the meaning"
   ]
  },
  {
   "cell_type": "markdown",
   "metadata": {},
   "source": [
    "__18. Generate some statistics for tagged data to answer the following questions: __<p>\n",
    "- a. What proportion of word types are always assigned the same part-of-speech tag?"
   ]
  },
  {
   "cell_type": "code",
   "execution_count": 36,
   "metadata": {},
   "outputs": [],
   "source": [
    "brown_tag = brown.tagged_words(tagset='universal')\n",
    "cfd = nltk.ConditionalFreqDist(brown_tag)"
   ]
  },
  {
   "cell_type": "code",
   "execution_count": 53,
   "metadata": {},
   "outputs": [
    {
     "name": "stdout",
     "output_type": "stream",
     "text": [
      "93.59 %\n"
     ]
    }
   ],
   "source": [
    "print(\"{:.2f} %\".format(len([cfd[word] for word in cfd if len(cfd[word])==1])/len(cfd)*100))"
   ]
  },
  {
   "cell_type": "markdown",
   "metadata": {},
   "source": [
    "- b. How many words are ambiguous, in the sense that they appear with at least two tags?"
   ]
  },
  {
   "cell_type": "code",
   "execution_count": 54,
   "metadata": {},
   "outputs": [
    {
     "name": "stdout",
     "output_type": "stream",
     "text": [
      "6.41 %\n"
     ]
    }
   ],
   "source": [
    "print(\"{:.2f} %\".format(len([cfd[word] for word in cfd if len(cfd[word])>=2])/len(cfd)*100))"
   ]
  },
  {
   "cell_type": "markdown",
   "metadata": {},
   "source": [
    "- c. What percentage of word tokens in the Brown Corpus involve these ambiguous words?"
   ]
  },
  {
   "cell_type": "code",
   "execution_count": 65,
   "metadata": {},
   "outputs": [
    {
     "data": {
      "text/plain": [
       "6.414899120538024"
      ]
     },
     "execution_count": 65,
     "metadata": {},
     "output_type": "execute_result"
    }
   ],
   "source": [
    "len(([word for word in cfd if len(cfd[word])>=2]))/len(cfd)*100"
   ]
  },
  {
   "cell_type": "markdown",
   "metadata": {},
   "source": [
    "__19. The evaluate() method works out how accurately the tagger performs on this text. <p>\n",
    "For example, if the supplied tagged text was `[('the', 'DT'), ('dog', 'NN')]` and the tagger produced the output `[('the', 'NN'), ('dog', 'NN')]`, then the score would be 0.5.<p>Let's try to figure out how the evaluation method works: __"
   ]
  },
  {
   "cell_type": "markdown",
   "metadata": {},
   "source": [
    "- a. A tagger `t` takes a list of words as input, and produces a list of tagged words as output. However, `t.evaluate()` is given correctly tagged text as its only parameter. What must it do with this input before performing the tagging?"
   ]
  },
  {
   "cell_type": "markdown",
   "metadata": {},
   "source": [
    "> If you want a correct accuracy, you should split input into training set and test set. And tokenize all sentences you want to input."
   ]
  },
  {
   "cell_type": "markdown",
   "metadata": {},
   "source": [
    "- b. Once the tagger has created newly tagged text, how might the `evaluate()` method go about comparing it with the original tagged text and computing the accuracy score?"
   ]
  },
  {
   "cell_type": "markdown",
   "metadata": {},
   "source": [
    "> accuracy score: $$\\frac{number \\ of \\ right - number \\ of \\ wrong}{number \\ of \\ words}$$"
   ]
  },
  {
   "cell_type": "markdown",
   "metadata": {},
   "source": [
    "- c. Now examine the source code to see how the method is implemented. Inspect `nltk.tag.api.__file__` to discover the location of the source code, and open this file using an editor (be sure to use the `api.py` file and not the compiled `api.pyc` binary file)."
   ]
  },
  {
   "cell_type": "markdown",
   "metadata": {},
   "source": [
    "> https://www.nltk.org/_modules/nltk/tag/api.html"
   ]
  },
  {
   "cell_type": "markdown",
   "metadata": {},
   "source": [
    "__20. Write code to search the Brown Corpus for particular words and phrases according to tags, to answer the following questions: __<p>\n",
    "- a. Produce an alphabetically sorted list of the distinct words tagged as `MD`."
   ]
  },
  {
   "cell_type": "code",
   "execution_count": 38,
   "metadata": {},
   "outputs": [],
   "source": [
    "brown_tagged = brown.tagged_words()\n",
    "cfd = nltk.ConditionalFreqDist(brown_tagged)"
   ]
  },
  {
   "cell_type": "code",
   "execution_count": 79,
   "metadata": {
    "scrolled": true
   },
   "outputs": [
    {
     "data": {
      "text/plain": [
       "['will', 'wilt', 'wod', 'wold', 'wolde', 'would']"
      ]
     },
     "execution_count": 79,
     "metadata": {},
     "output_type": "execute_result"
    }
   ],
   "source": [
    "sorted(set([word for (word, tag) in brown_tagged if tag == 'MD']))[30:50]"
   ]
  },
  {
   "cell_type": "markdown",
   "metadata": {},
   "source": [
    "- b. Identify words that can be plural nouns or third person singular verbs _(e.g. deals, flies)_."
   ]
  },
  {
   "cell_type": "code",
   "execution_count": 48,
   "metadata": {},
   "outputs": [],
   "source": [
    "vbs = [] #append verb which can be third person singular verbs\n",
    "nns = [] #append noun which can be plural nouns\n",
    "for word, tag in brown_tagged:\n",
    "    if tag == 'VB':\n",
    "        if cfd[word+'s'] and cfd[word+'s']['VBZ']:\n",
    "            vbs.append(word.lower())\n",
    "        elif cfd[word+'es'] and cfd[word+'es']['VBZ']:\n",
    "            vbs.append(word.lower())\n",
    "    elif tag == 'NN':\n",
    "        if cfd[word+'s'] and cfd[word+'s']['NNS']:\n",
    "            nns.append(word.lower())\n",
    "        elif cfd[word+'es'] and cfd[word+'es']['NNS']:\n",
    "            nns.append(word.lower())"
   ]
  },
  {
   "cell_type": "code",
   "execution_count": 77,
   "metadata": {
    "scrolled": true
   },
   "outputs": [
    {
     "data": {
      "text/plain": [
       "['abide',\n",
       " 'abound',\n",
       " 'absorb',\n",
       " 'accentuate',\n",
       " 'accept',\n",
       " 'accommodate',\n",
       " 'accomplish',\n",
       " 'accord',\n",
       " 'account',\n",
       " 'accumulate']"
      ]
     },
     "execution_count": 77,
     "metadata": {},
     "output_type": "execute_result"
    }
   ],
   "source": [
    "sorted(set(vbs))[:10]"
   ]
  },
  {
   "cell_type": "code",
   "execution_count": 78,
   "metadata": {},
   "outputs": [
    {
     "data": {
      "text/plain": [
       "['yearning',\n",
       " 'yeast',\n",
       " 'yelp',\n",
       " 'yield',\n",
       " 'yokel',\n",
       " 'youngster',\n",
       " 'youth',\n",
       " 'zero',\n",
       " 'zombie',\n",
       " 'zone']"
      ]
     },
     "execution_count": 78,
     "metadata": {},
     "output_type": "execute_result"
    }
   ],
   "source": [
    "sorted(set(nns))[-10:]"
   ]
  },
  {
   "cell_type": "markdown",
   "metadata": {},
   "source": [
    "- c. Identify three-word prepositional phrases of the form `IN + DET + NN` (eg. _in the lab_)."
   ]
  },
  {
   "cell_type": "code",
   "execution_count": 57,
   "metadata": {},
   "outputs": [],
   "source": [
    "def find_3_word(sentence):\n",
    "    for (w1,t1), (w2,t2), (w3,t3) in nltk.trigrams(sentence):\n",
    "        if (t1=='IN' and t2 == 'DT' and t3.startswith('NN')):\n",
    "            print(w1, w2, w3)"
   ]
  },
  {
   "cell_type": "code",
   "execution_count": 58,
   "metadata": {},
   "outputs": [
    {
     "name": "stdout",
     "output_type": "stream",
     "text": [
      "of this city\n",
      "of this money\n",
      "in each county\n",
      "in this county\n",
      "on this question\n",
      "in this case\n",
      "of that court\n",
      "of this court\n",
      "on each worker\n",
      "on that date\n",
      "for each illness\n",
      "for each $1,500\n",
      "for another setback\n",
      "on this score\n",
      "from another direction\n",
      "over this problem\n",
      "in this field\n",
      "in this matter\n",
      "into this campaign\n",
      "into this state\n",
      "at this time\n",
      "in this campaign\n",
      "from this year's\n",
      "along this thoroughfare\n",
      "Along this avenue\n",
      "of this country's\n",
      "for each joint\n",
      "during that time\n",
      "with this challenge\n",
      "In this light\n",
      "of this hour\n",
      "with each start\n",
      "during each practice\n",
      "by that time\n",
      "for this city\n",
      "during another Open\n",
      "of that stroke\n",
      "on that milestone\n",
      "of each month\n",
      "For that matter\n",
      "for this group\n",
      "of that country\n",
      "from this pair\n",
      "of this column\n",
      "at this point\n",
      "of this phase\n",
      "of this phase\n",
      "in this class\n",
      "in each area\n",
      "In another attack\n",
      "at this week's\n",
      "within that span\n",
      "of each month\n",
      "in this conspiracy\n",
      "for another year\n",
      "of each month\n",
      "of this program\n",
      "at that time\n",
      "of this state\n",
      "of this danger\n",
      "of this year\n",
      "On that date\n",
      "in this area\n",
      "by this autumn\n",
      "in this recovery\n",
      "in this recovery\n",
      "during this recovery\n",
      "in this hemisphere\n",
      "With this kind\n",
      "to this column\n",
      "At that time\n",
      "in this farm\n",
      "for this year\n",
      "of this bill\n",
      "in this case\n",
      "in this sort\n",
      "In that event\n",
      "within that area\n",
      "for each guest\n",
      "under each end\n",
      "of this city\n",
      "In this way\n",
      "At that time\n",
      "after that service\n",
      "in this country\n",
      "for this enchantment\n",
      "of each child\n",
      "In another respect\n",
      "by that master\n",
      "from each section\n",
      "in this country\n",
      "in this field\n",
      "in this school\n",
      "to each group\n",
      "of this Nation's\n",
      "of this community\n",
      "in this area\n",
      "by that possibility\n",
      "of that danger\n",
      "of that fact\n",
      "in this country\n",
      "in this kind\n",
      "with this demand\n",
      "for this identification\n",
      "with this form\n",
      "of this law\n",
      "In this manner\n",
      "over each member\n",
      "With that possibility\n",
      "On this day\n",
      "on this hole\n",
      "until this year\n",
      "for that matter\n",
      "in each league\n",
      "in this matter\n",
      "of this administration\n",
      "for each university\n",
      "On this issue\n",
      "to that effect\n",
      "on this page\n",
      "on that road\n",
      "of that road\n",
      "at this time\n",
      "Behind this reply\n",
      "with this situation\n",
      "Under this law\n",
      "of each member\n",
      "for each person\n",
      "of this collection\n",
      "at each library\n",
      "in this country\n"
     ]
    }
   ],
   "source": [
    "for s in brown_tagged_sents:\n",
    "    find_3_word(s)"
   ]
  },
  {
   "cell_type": "markdown",
   "metadata": {},
   "source": [
    "- d. What is the ratio of masculine to feminine pronouns? (he/she)"
   ]
  },
  {
   "cell_type": "code",
   "execution_count": 65,
   "metadata": {},
   "outputs": [
    {
     "data": {
      "text/plain": [
       "3.3384615384615386"
      ]
     },
     "execution_count": 65,
     "metadata": {},
     "output_type": "execute_result"
    }
   ],
   "source": [
    "len([w for (w,t) in brown_tagged if w.lower()=='he']) / len([w for (w,t) in brown_tagged if w.lower()=='she'])"
   ]
  }
 ],
 "metadata": {
  "kernelspec": {
   "display_name": "Python 3",
   "language": "python",
   "name": "python3"
  },
  "language_info": {
   "codemirror_mode": {
    "name": "ipython",
    "version": 3
   },
   "file_extension": ".py",
   "mimetype": "text/x-python",
   "name": "python",
   "nbconvert_exporter": "python",
   "pygments_lexer": "ipython3",
   "version": "3.6.5"
  },
  "toc": {
   "base_numbering": 1,
   "nav_menu": {},
   "number_sections": true,
   "sideBar": true,
   "skip_h1_title": false,
   "title_cell": "Table of Contents",
   "title_sidebar": "Contents",
   "toc_cell": false,
   "toc_position": {},
   "toc_section_display": true,
   "toc_window_display": false
  }
 },
 "nbformat": 4,
 "nbformat_minor": 2
}
